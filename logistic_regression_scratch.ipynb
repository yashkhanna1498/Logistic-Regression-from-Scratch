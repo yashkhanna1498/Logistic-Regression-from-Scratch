{
  "nbformat": 4,
  "nbformat_minor": 0,
  "metadata": {
    "colab": {
      "name": "logistic regression scratch.ipynb",
      "provenance": [],
      "collapsed_sections": []
    },
    "kernelspec": {
      "name": "python3",
      "display_name": "Python 3"
    },
    "accelerator": "GPU"
  },
  "cells": [
    {
      "cell_type": "code",
      "metadata": {
        "id": "51qFNjezYCaP"
      },
      "source": [
        "import numpy as np\r\n",
        "import math"
      ],
      "execution_count": 66,
      "outputs": []
    },
    {
      "cell_type": "code",
      "metadata": {
        "id": "qsxzsz7bNtKn"
      },
      "source": [
        "def sigmoid(x):\r\n",
        "    ans = 1/(1+np.exp(-x))\r\n",
        "    return ans"
      ],
      "execution_count": 67,
      "outputs": []
    },
    {
      "cell_type": "code",
      "metadata": {
        "id": "wkkIuJ4FO22w"
      },
      "source": [
        "def prediction(m, x,c):\r\n",
        "    pred = []\r\n",
        "    z = np.matmul(x,m)\r\n",
        "    a = sigmoid(z)+c\r\n",
        "    # print(a)\r\n",
        "    for i in range(0,len(a)):\r\n",
        "        if (a[i] > 0.5): \r\n",
        "            pred.append(1)\r\n",
        "        elif (a[i] <= 0.5):\r\n",
        "            pred.append(0)\r\n",
        "    return pred"
      ],
      "execution_count": 104,
      "outputs": []
    },
    {
      "cell_type": "code",
      "metadata": {
        "id": "gMV2ZeHkUMWi"
      },
      "source": [
        "from sklearn import datasets \r\n",
        "from sklearn.model_selection import train_test_split\r\n",
        "d=datasets.load_breast_cancer()\r\n",
        "x=d.data\r\n",
        "y=d.target\r\n",
        "x_train,x_test,y_train,y_test=train_test_split(x,y,stratify=y,random_state=14)"
      ],
      "execution_count": 69,
      "outputs": []
    },
    {
      "cell_type": "code",
      "metadata": {
        "colab": {
          "base_uri": "https://localhost:8080/"
        },
        "id": "vGW4cZq2UjPv",
        "outputId": "666278e0-1ab5-45f2-c88f-7ad124817bda"
      },
      "source": [
        "x.shape,y.shape"
      ],
      "execution_count": 70,
      "outputs": [
        {
          "output_type": "execute_result",
          "data": {
            "text/plain": [
              "((569, 30), (569,))"
            ]
          },
          "metadata": {
            "tags": []
          },
          "execution_count": 70
        }
      ]
    },
    {
      "cell_type": "code",
      "metadata": {
        "colab": {
          "base_uri": "https://localhost:8080/"
        },
        "id": "k5v5tZQFcq0c",
        "outputId": "bfc9754f-0953-4e21-d1d3-805f3c8bbd61"
      },
      "source": [
        "x_train.shape,x_test.shape,y_train.shape,y_test.shape"
      ],
      "execution_count": 71,
      "outputs": [
        {
          "output_type": "execute_result",
          "data": {
            "text/plain": [
              "((426, 30), (143, 30), (426,), (143,))"
            ]
          },
          "metadata": {
            "tags": []
          },
          "execution_count": 71
        }
      ]
    },
    {
      "cell_type": "code",
      "metadata": {
        "id": "qYcPGjzCXCOH"
      },
      "source": [
        "def step_gradient(x,y,alpha, m,P,Q ):\r\n",
        "    m_slope=0\r\n",
        "    for j in range (Q):\r\n",
        "        for i in range(P):\r\n",
        "            m_slope+=(y[i]-multilplymx(x,m,i,Q))*x[i][j]\r\n",
        "        m_slope=(-2/P)*m_slope\r\n",
        "        m[j]=m[j]-alpha*m_slope\r\n",
        "    return m\r\n",
        "    \r\n",
        "def multilplymx(x,m,i,Q):\r\n",
        "    ans=0\r\n",
        "    for r in range(Q):\r\n",
        "        ans+=x[i][r]*m[r]\r\n",
        "    return ans"
      ],
      "execution_count": 72,
      "outputs": []
    },
    {
      "cell_type": "code",
      "metadata": {
        "id": "Rs1Z_6zbXM6C"
      },
      "source": [
        "def cost(x,y,m):\r\n",
        "    cost=0\r\n",
        "    P=x.shape[0]\r\n",
        "    for i in range(P):\r\n",
        "        x_i=x[i]\r\n",
        "        y_i=y[i]\r\n",
        "        t=np.matmul(x_i,m)\r\n",
        "        b=np.exp(t)\r\n",
        "        ei=math.log(1+b)-(y_i*t)\r\n",
        "        cost+=ei\r\n",
        "    return cost  "
      ],
      "execution_count": 73,
      "outputs": []
    },
    {
      "cell_type": "code",
      "metadata": {
        "id": "BSUd9eI-WzBm"
      },
      "source": [
        "def gradient_descent(x,y,m,num_iter,lr,P,Q):\r\n",
        "    # #taking random value of m\r\n",
        "    # m = [0 for i in range(Q)]\r\n",
        "    for i in range(num_iter):\r\n",
        "        m= step_gradient(x,y, lr, m ,P,Q)\r\n",
        "        if i%100==0:\r\n",
        "            print(i, \" Cost: \", cost(x,y, m))\r\n",
        "    return m\r\n"
      ],
      "execution_count": 74,
      "outputs": []
    },
    {
      "cell_type": "code",
      "metadata": {
        "id": "Xrf0vn7qPgAb"
      },
      "source": [
        "def fit(x,y,lr,num_iter):\r\n",
        "  c=np.ones(x.shape[0])\r\n",
        "  c=np.array(c)[:,None]\r\n",
        "  x_new=np.concatenate((x,c),axis=1)\r\n",
        "  P=x_new.shape[0]\r\n",
        "  Q=x_new.shape[1]\r\n",
        "  m=np.zeros(Q)\r\n",
        "  lr=lr/(10**4)\r\n",
        "  m=gradient_descent(x_new,y,m,num_iter,lr,P,Q)\r\n",
        "  return m"
      ],
      "execution_count": 75,
      "outputs": []
    },
    {
      "cell_type": "code",
      "metadata": {
        "colab": {
          "base_uri": "https://localhost:8080/"
        },
        "id": "Tz38jiJ8YBSf",
        "outputId": "0e43369e-5d2d-4305-d943-3fb59b269a8f"
      },
      "source": [
        "m=fit(x_train,y_train,.01,2000)"
      ],
      "execution_count": 87,
      "outputs": [
        {
          "output_type": "stream",
          "text": [
            "0  Cost:  301.94508027494936\n",
            "100  Cost:  274.3957215999599\n",
            "200  Cost:  267.9006603269694\n",
            "300  Cost:  263.3451013322881\n",
            "400  Cost:  260.0516562898041\n",
            "500  Cost:  257.6158624490151\n",
            "600  Cost:  255.77634673407928\n",
            "700  Cost:  254.36087900338404\n",
            "800  Cost:  253.25332148263917\n",
            "900  Cost:  252.37352636709767\n",
            "1000  Cost:  251.6649940126508\n",
            "1100  Cost:  251.08714002525548\n",
            "1200  Cost:  250.61032993680115\n",
            "1300  Cost:  250.21261099928074\n",
            "1400  Cost:  249.8775107760272\n",
            "1500  Cost:  249.59252350458274\n",
            "1600  Cost:  249.34805067644643\n",
            "1700  Cost:  249.1366482215069\n",
            "1800  Cost:  248.95248466524077\n",
            "1900  Cost:  248.7909468555789\n"
          ],
          "name": "stdout"
        }
      ]
    },
    {
      "cell_type": "code",
      "metadata": {
        "colab": {
          "base_uri": "https://localhost:8080/"
        },
        "id": "4M-gATpQVUF8",
        "outputId": "89716be3-da4f-4547-9e91-26d98192e81a"
      },
      "source": [
        "len(m)"
      ],
      "execution_count": 88,
      "outputs": [
        {
          "output_type": "execute_result",
          "data": {
            "text/plain": [
              "31"
            ]
          },
          "metadata": {
            "tags": []
          },
          "execution_count": 88
        }
      ]
    },
    {
      "cell_type": "code",
      "metadata": {
        "id": "RGgcY-neeul2"
      },
      "source": [
        "c=m[-1]\r\n",
        "m=m[:-1]"
      ],
      "execution_count": 89,
      "outputs": []
    },
    {
      "cell_type": "code",
      "metadata": {
        "id": "6mjBTeIShUcu"
      },
      "source": [
        "pred_yash=prediction(m,x_test,c)"
      ],
      "execution_count": 105,
      "outputs": []
    },
    {
      "cell_type": "code",
      "metadata": {
        "colab": {
          "base_uri": "https://localhost:8080/"
        },
        "id": "YcIQr3r_c_75",
        "outputId": "60085759-12f2-474d-d31d-a8cd18000acf"
      },
      "source": [
        "from sklearn.metrics import accuracy_score\r\n",
        "accuracy_score(pred_yash,y_test)"
      ],
      "execution_count": 107,
      "outputs": [
        {
          "output_type": "execute_result",
          "data": {
            "text/plain": [
              "0.7272727272727273"
            ]
          },
          "metadata": {
            "tags": []
          },
          "execution_count": 107
        }
      ]
    },
    {
      "cell_type": "markdown",
      "metadata": {
        "id": "yHeKnHWwkfXU"
      },
      "source": [
        "comparing my algorithm with sklearn"
      ]
    },
    {
      "cell_type": "code",
      "metadata": {
        "colab": {
          "base_uri": "https://localhost:8080/"
        },
        "id": "swQJ-uuGeTXn",
        "outputId": "e009ec2a-b883-4a0b-c17a-e14c7e05c511"
      },
      "source": [
        "from sklearn.linear_model import LogisticRegression as LR\r\n",
        "clf=LR()\r\n",
        "clf.fit(x_train,y_train)\r\n",
        "clf.score(x_test,y_test)"
      ],
      "execution_count": 110,
      "outputs": [
        {
          "output_type": "stream",
          "text": [
            "/usr/local/lib/python3.6/dist-packages/sklearn/linear_model/_logistic.py:940: ConvergenceWarning: lbfgs failed to converge (status=1):\n",
            "STOP: TOTAL NO. of ITERATIONS REACHED LIMIT.\n",
            "\n",
            "Increase the number of iterations (max_iter) or scale the data as shown in:\n",
            "    https://scikit-learn.org/stable/modules/preprocessing.html\n",
            "Please also refer to the documentation for alternative solver options:\n",
            "    https://scikit-learn.org/stable/modules/linear_model.html#logistic-regression\n",
            "  extra_warning_msg=_LOGISTIC_SOLVER_CONVERGENCE_MSG)\n"
          ],
          "name": "stderr"
        },
        {
          "output_type": "execute_result",
          "data": {
            "text/plain": [
              "0.9440559440559441"
            ]
          },
          "metadata": {
            "tags": []
          },
          "execution_count": 110
        }
      ]
    },
    {
      "cell_type": "code",
      "metadata": {
        "id": "glyIDAWMkzIs"
      },
      "source": [
        ""
      ],
      "execution_count": null,
      "outputs": []
    }
  ]
}